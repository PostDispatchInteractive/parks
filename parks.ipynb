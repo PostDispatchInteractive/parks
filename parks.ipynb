{
 "cells": [
  {
   "cell_type": "code",
   "execution_count": 13,
   "metadata": {},
   "outputs": [],
   "source": [
    "import warnings\n",
    "warnings.simplefilter('ignore')\n",
    "import matplotlib.pyplot as plt\n",
    "import pandas as pd\n",
    "import glob\n",
    "from glob import iglob\n",
    "from collections import OrderedDict\n",
    "import csv"
   ]
  },
  {
   "cell_type": "code",
   "execution_count": 14,
   "metadata": {},
   "outputs": [],
   "source": [
    "# filepath to local data \n",
    "filepath = (\"./*.csv\")"
   ]
  },
  {
   "cell_type": "code",
   "execution_count": 15,
   "metadata": {},
   "outputs": [],
   "source": [
    "# combine all 2009-2019 CSB complaint files into one file\n",
    "interesting_files = glob.glob(filepath)\n",
    "\n",
    "header_saved = False\n",
    "with open('csb_master.csv','wb') as fout:\n",
    "    for filename in interesting_files:\n",
    "        with open(filename) as fin:\n",
    "            header = next(fin)\n",
    "            if not header_saved:\n",
    "                fout.write(header)\n",
    "                header_saved = True\n",
    "            for line in fin:\n",
    "                fout.write(line)"
   ]
  },
  {
   "cell_type": "code",
   "execution_count": 16,
   "metadata": {},
   "outputs": [],
   "source": [
    "# read the csb_master.csv file you just created into a dataframe, and each year into its own dataframe\n",
    "total = pd.read_csv('csb_master.csv')\n",
    "year_2009 = pd.read_csv('./2009.csv')\n",
    "year_2010 = pd.read_csv('./2010.csv')\n",
    "year_2011 = pd.read_csv('./2011.csv')\n",
    "year_2012 = pd.read_csv('./2012.csv')\n",
    "year_2013 = pd.read_csv('./2013.csv')\n",
    "year_2014 = pd.read_csv('./2014.csv')\n",
    "year_2015 = pd.read_csv('./2015.csv')\n",
    "year_2016 = pd.read_csv('./2016.csv')\n",
    "year_2017 = pd.read_csv('./2017.csv')\n",
    "year_2018 = pd.read_csv('./2018.csv')\n",
    "year_2019 = pd.read_csv('./2019.csv')"
   ]
  },
  {
   "cell_type": "code",
   "execution_count": 17,
   "metadata": {},
   "outputs": [
    {
     "name": "stdout",
     "output_type": "stream",
     "text": [
      "<class 'pandas.core.frame.DataFrame'>\n",
      "RangeIndex: 1159888 entries, 0 to 1159887\n",
      "Data columns (total 19 columns):\n",
      "CALLERTYPE         604212 non-null object\n",
      "DATECANCELLED      31362 non-null object\n",
      "DATEINVTDONE       1114116 non-null object\n",
      "DATETIMECLOSED     1100744 non-null object\n",
      "DATETIMEINIT       1159888 non-null object\n",
      "DESCRIPTION        1159880 non-null object\n",
      "NEIGHBORHOOD       1098534 non-null object\n",
      "PRJCOMPLETEDATE    1144802 non-null object\n",
      "PROBADDRESS        1156310 non-null object\n",
      "PROBADDTYPE        1159888 non-null object\n",
      "PROBCITY           298659 non-null object\n",
      "PROBLEMCODE        1159888 non-null object\n",
      "PROBZIP            276513 non-null object\n",
      "REQUESTID          1159888 non-null int64\n",
      "SRX                1126255 non-null float64\n",
      "SRY                1126259 non-null float64\n",
      "STATUS             1159732 non-null object\n",
      "SUBMITTO           1159681 non-null object\n",
      "WARD               1104422 non-null object\n",
      "dtypes: float64(2), int64(1), object(16)\n",
      "memory usage: 168.1+ MB\n"
     ]
    }
   ],
   "source": [
    "# assuring the data got read into the dataframe; checking out the data\n",
    "total.info()"
   ]
  },
  {
   "cell_type": "code",
   "execution_count": 18,
   "metadata": {},
   "outputs": [],
   "source": [
    "# here are the problem codes we are interested in\n",
    "playground = ['Playground Equipment']\n",
    "misc_parks = ['Misc-Parks Div']\n",
    "trash = ['Trash in the Park']\n",
    "potty = ['Park Restrooms']\n",
    "fields = ['Athletic Fields']\n",
    "grass = ['High Grass in Park']\n",
    "sewer = ['Park Sewer Problem']\n",
    "picnic = ['Clean Picnic Tables']"
   ]
  },
  {
   "cell_type": "code",
   "execution_count": 19,
   "metadata": {},
   "outputs": [
    {
     "data": {
      "text/plain": [
       "410"
      ]
     },
     "execution_count": 19,
     "metadata": {},
     "output_type": "execute_result"
    }
   ],
   "source": [
    "# total playground equipment complaints 2009-2019\n",
    "playground_total = total.loc[total['PROBLEMCODE'].isin(playground)]\n",
    "playground_total['DATETIMEINIT'].count()"
   ]
  },
  {
   "cell_type": "code",
   "execution_count": 20,
   "metadata": {},
   "outputs": [
    {
     "name": "stdout",
     "output_type": "stream",
     "text": [
      "YEAR\n",
      "2009    28\n",
      "2010    28\n",
      "2011    36\n",
      "2012    35\n",
      "2013    48\n",
      "2014    36\n",
      "2015    27\n",
      "2016    55\n",
      "2017    65\n",
      "2018    50\n",
      "2019     2\n",
      "Name: YEAR, dtype: int64\n"
     ]
    }
   ],
   "source": [
    "# total playground equipment complaints 2009-2019 sorted by year\n",
    "playground_total['YEAR'] = pd.DatetimeIndex(playground_total['DATETIMEINIT']).year\n",
    "x = playground_total['YEAR'].groupby(playground_total.YEAR).agg('count')\n",
    "print x"
   ]
  },
  {
   "cell_type": "code",
   "execution_count": 58,
   "metadata": {},
   "outputs": [
    {
     "ename": "TypeError",
     "evalue": "'Text' object is not callable",
     "output_type": "error",
     "traceback": [
      "\u001b[0;31m---------------------------------------------------------------------------\u001b[0m",
      "\u001b[0;31mTypeError\u001b[0m                                 Traceback (most recent call last)",
      "\u001b[0;32m<ipython-input-58-7b3dde531cd3>\u001b[0m in \u001b[0;36m<module>\u001b[0;34m()\u001b[0m\n\u001b[1;32m      6\u001b[0m \u001b[0mmask\u001b[0m \u001b[0;34m=\u001b[0m \u001b[0mx\u001b[0m \u001b[0;34m>\u001b[0m \u001b[0;36m2\u001b[0m\u001b[0;34m\u001b[0m\u001b[0m\n\u001b[1;32m      7\u001b[0m \u001b[0max\u001b[0m\u001b[0;34m.\u001b[0m\u001b[0mplot\u001b[0m\u001b[0;34m(\u001b[0m\u001b[0mx\u001b[0m\u001b[0;34m[\u001b[0m\u001b[0mmask\u001b[0m\u001b[0;34m]\u001b[0m\u001b[0;34m)\u001b[0m\u001b[0;34m\u001b[0m\u001b[0m\n\u001b[0;32m----> 8\u001b[0;31m \u001b[0max\u001b[0m\u001b[0;34m.\u001b[0m\u001b[0mtitle\u001b[0m\u001b[0;34m(\u001b[0m\u001b[0;34m\"Playground equipment complaints in St. Louis, 2009 to 2018\"\u001b[0m\u001b[0;34m)\u001b[0m\u001b[0;34m\u001b[0m\u001b[0m\n\u001b[0m\u001b[1;32m      9\u001b[0m \u001b[0max\u001b[0m\u001b[0;34m.\u001b[0m\u001b[0mxlabel\u001b[0m\u001b[0;34m(\u001b[0m\u001b[0;34m\"Year\"\u001b[0m\u001b[0;34m)\u001b[0m\u001b[0;34m\u001b[0m\u001b[0m\n\u001b[1;32m     10\u001b[0m \u001b[0max\u001b[0m\u001b[0;34m.\u001b[0m\u001b[0mylabel\u001b[0m\u001b[0;34m(\u001b[0m\u001b[0;34m\"Number of complaints\"\u001b[0m\u001b[0;34m)\u001b[0m\u001b[0;34m\u001b[0m\u001b[0m\n",
      "\u001b[0;31mTypeError\u001b[0m: 'Text' object is not callable"
     ]
    },
    {
     "data": {
      "image/png": "[encoded data removed]",
      "text/plain": [
       "<Figure size 640x440 with 1 Axes>"
      ]
     },
     "metadata": {},
     "output_type": "display_data"
    }
   ],
   "source": [
    "# playground equipment complaints 2009-2018\n",
    "# NOTE: 2019 data goes through the end of April and is not displayed on the graph\n",
    "plt.rcParams['axes.formatter.useoffset'] = False\n",
    "plt.style.use('ggplot')\n",
    "f, ax = plt.subplots(1)\n",
    "mask = x > 2\n",
    "ax.plot(x[mask])\n",
    "ax.title(\"Playground equipment complaints in St. Louis, 2009 to 2018\")\n",
    "ax.xlabel(\"Year\")\n",
    "ax.ylabel(\"Number of complaints\")"
   ]
  },
  {
   "cell_type": "code",
   "execution_count": 27,
   "metadata": {},
   "outputs": [
    {
     "data": {
      "text/plain": [
       "107"
      ]
     },
     "execution_count": 27,
     "metadata": {},
     "output_type": "execute_result"
    }
   ],
   "source": [
    "# filtering the 2018 dataframe down to each specific problem code\n",
    "misc_parks_2018 = year_2018.loc[year_2018['PROBLEMCODE'].isin(misc_parks)]\n",
    "misc_parks_2018['DATETIMEINIT'].count()"
   ]
  },
  {
   "cell_type": "code",
   "execution_count": 28,
   "metadata": {},
   "outputs": [
    {
     "data": {
      "text/plain": [
       "106"
      ]
     },
     "execution_count": 28,
     "metadata": {},
     "output_type": "execute_result"
    }
   ],
   "source": [
    "trash_2018 = year_2018.loc[year_2018['PROBLEMCODE'].isin(trash)]\n",
    "trash_2018['DATETIMEINIT'].count()"
   ]
  },
  {
   "cell_type": "code",
   "execution_count": 29,
   "metadata": {},
   "outputs": [
    {
     "name": "stdout",
     "output_type": "stream",
     "text": [
      "24\n"
     ]
    }
   ],
   "source": [
    "potty_2018 = year_2018.loc[year_2018['PROBLEMCODE'].isin(potty)]\n",
    "a = potty_2018['DATETIMEINIT'].count()\n",
    "print a"
   ]
  },
  {
   "cell_type": "code",
   "execution_count": 30,
   "metadata": {},
   "outputs": [
    {
     "name": "stdout",
     "output_type": "stream",
     "text": [
      "18\n"
     ]
    }
   ],
   "source": [
    "fields_2018 = year_2018.loc[year_2018['PROBLEMCODE'].isin(fields)]\n",
    "b = fields_2018['DATETIMEINIT'].count()\n",
    "print b"
   ]
  },
  {
   "cell_type": "code",
   "execution_count": 31,
   "metadata": {},
   "outputs": [
    {
     "name": "stdout",
     "output_type": "stream",
     "text": [
      "171\n"
     ]
    }
   ],
   "source": [
    "grass_2018 = year_2018.loc[year_2018['PROBLEMCODE'].isin(grass)]\n",
    "c = grass_2018['DATETIMEINIT'].count()\n",
    "print c"
   ]
  },
  {
   "cell_type": "code",
   "execution_count": 32,
   "metadata": {},
   "outputs": [
    {
     "name": "stdout",
     "output_type": "stream",
     "text": [
      "9\n"
     ]
    }
   ],
   "source": [
    "sewer_2018 = year_2018.loc[year_2018['PROBLEMCODE'].isin(sewer)]\n",
    "d = sewer_2018['DATETIMEINIT'].count()\n",
    "print d"
   ]
  },
  {
   "cell_type": "code",
   "execution_count": 33,
   "metadata": {},
   "outputs": [
    {
     "name": "stdout",
     "output_type": "stream",
     "text": [
      "4\n"
     ]
    }
   ],
   "source": [
    "picnic_2018 = year_2018.loc[year_2018['PROBLEMCODE'].isin(picnic)]\n",
    "e = picnic_2018['DATETIMEINIT'].count()\n",
    "print e"
   ]
  },
  {
   "cell_type": "code",
   "execution_count": 34,
   "metadata": {},
   "outputs": [
    {
     "name": "stdout",
     "output_type": "stream",
     "text": [
      "226\n"
     ]
    }
   ],
   "source": [
    "all_other_park_complaints = a + b + c + d + e\n",
    "print all_other_park_complaints"
   ]
  },
  {
   "cell_type": "code",
   "execution_count": null,
   "metadata": {},
   "outputs": [],
   "source": []
  }
 ],
 "metadata": {
  "kernelspec": {
   "display_name": "Python 2",
   "language": "python",
   "name": "python2"
  },
  "language_info": {
   "codemirror_mode": {
    "name": "ipython",
    "version": 2
   },
   "file_extension": ".py",
   "mimetype": "text/x-python",
   "name": "python",
   "nbconvert_exporter": "python",
   "pygments_lexer": "ipython2",
   "version": "2.7.15"
  }
 },
 "nbformat": 4,
 "nbformat_minor": 2
}

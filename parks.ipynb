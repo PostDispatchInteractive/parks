{
 "cells": [
  {
   "cell_type": "code",
   "execution_count": 57,
   "metadata": {},
   "outputs": [],
   "source": [
    "import warnings\n",
    "warnings.simplefilter('ignore')\n",
    "import matplotlib.pyplot as plt\n",
    "import pandas as pd\n",
    "import glob\n",
    "import os"
   ]
  },
  {
   "cell_type": "code",
   "execution_count": 58,
   "metadata": {},
   "outputs": [],
   "source": [
    "# filepath to local data \n",
    "filedir = ('./Archive')\n",
    "\n",
    "# check to make sure Archive exists\n",
    "if not os.path.exists(filedir):\n",
    "    raise Exception('The /Archive/ directory does not exist. Please create it by unzipping Archive.zip.')\n",
    "\n",
    "# check to make sure Archive contains CSVs\n",
    "csv_files = [f for f in glob.glob(os.path.join(filedir, '*.csv'))]\n",
    "if len(csv_files) < 11:\n",
    "    raise Exception('The /Archive/ directory has fewer than 11 CSVs. Please make sure all CSV files (2009-2019) are copied into it.')\n"
   ]
  },
  {
   "cell_type": "code",
   "execution_count": 59,
   "metadata": {},
   "outputs": [],
   "source": [
    "# read each year into its own dataframe. \n",
    "# ignore encoding errors caused by special characters in the data, to keep things simple.\n",
    "year_2009 = pd.read_csv(os.path.join(filedir, '2009.csv'), encoding='utf8', encoding_errors='ignore')\n",
    "year_2010 = pd.read_csv(os.path.join(filedir, '2010.csv'), encoding='utf8', encoding_errors='ignore')\n",
    "year_2011 = pd.read_csv(os.path.join(filedir, '2011.csv'), encoding='utf8', encoding_errors='ignore')\n",
    "year_2012 = pd.read_csv(os.path.join(filedir, '2012.csv'), encoding='utf8', encoding_errors='ignore')\n",
    "year_2013 = pd.read_csv(os.path.join(filedir, '2013.csv'), encoding='utf8', encoding_errors='ignore')\n",
    "year_2014 = pd.read_csv(os.path.join(filedir, '2014.csv'), encoding='utf8', encoding_errors='ignore')\n",
    "year_2015 = pd.read_csv(os.path.join(filedir, '2015.csv'), encoding='utf8', encoding_errors='ignore')\n",
    "year_2016 = pd.read_csv(os.path.join(filedir, '2016.csv'), encoding='utf8', encoding_errors='ignore')\n",
    "year_2017 = pd.read_csv(os.path.join(filedir, '2017.csv'), encoding='utf8', encoding_errors='ignore')\n",
    "year_2018 = pd.read_csv(os.path.join(filedir, '2018.csv'), encoding='utf8', encoding_errors='ignore')\n",
    "year_2019 = pd.read_csv(os.path.join(filedir, '2019.csv'), encoding='utf8', encoding_errors='ignore')"
   ]
  },
  {
   "cell_type": "code",
   "execution_count": 60,
   "metadata": {},
   "outputs": [],
   "source": [
    "# combine all 2009-2019 CSB complaint files into one table\n",
    "total = pd.concat([\n",
    "\tyear_2009,\n",
    "\tyear_2010,\n",
    "\tyear_2011,\n",
    "\tyear_2012,\n",
    "\tyear_2013,\n",
    "\tyear_2014,\n",
    "\tyear_2015,\n",
    "\tyear_2016,\n",
    "\tyear_2017,\n",
    "\tyear_2018,\n",
    "\tyear_2019,\n",
    "])\n"
   ]
  },
  {
   "cell_type": "code",
   "execution_count": 61,
   "metadata": {},
   "outputs": [
    {
     "name": "stdout",
     "output_type": "stream",
     "text": [
      "<class 'pandas.core.frame.DataFrame'>\n",
      "Index: 1159888 entries, 0 to 4919\n",
      "Data columns (total 19 columns):\n",
      " #   Column           Non-Null Count    Dtype  \n",
      "---  ------           --------------    -----  \n",
      " 0   CALLERTYPE       604212 non-null   object \n",
      " 1   DATECANCELLED    31362 non-null    object \n",
      " 2   DATEINVTDONE     1114116 non-null  object \n",
      " 3   DATETIMECLOSED   1100744 non-null  object \n",
      " 4   DATETIMEINIT     1159888 non-null  object \n",
      " 5   DESCRIPTION      1159880 non-null  object \n",
      " 6   NEIGHBORHOOD     1098534 non-null  object \n",
      " 7   PRJCOMPLETEDATE  1144802 non-null  object \n",
      " 8   PROBADDRESS      1156310 non-null  object \n",
      " 9   PROBADDTYPE      1159888 non-null  object \n",
      " 10  PROBCITY         298659 non-null   object \n",
      " 11  PROBLEMCODE      1159888 non-null  object \n",
      " 12  PROBZIP          276513 non-null   object \n",
      " 13  REQUESTID        1159888 non-null  int64  \n",
      " 14  SRX              1126255 non-null  float64\n",
      " 15  SRY              1126259 non-null  float64\n",
      " 16  STATUS           1159732 non-null  object \n",
      " 17  SUBMITTO         1159681 non-null  object \n",
      " 18  WARD             1104422 non-null  object \n",
      "dtypes: float64(2), int64(1), object(16)\n",
      "memory usage: 177.0+ MB\n"
     ]
    }
   ],
   "source": [
    "# assuring the data got read into the dataframe; checking out the data\n",
    "total.info()"
   ]
  },
  {
   "cell_type": "code",
   "execution_count": 62,
   "metadata": {},
   "outputs": [],
   "source": [
    "# here are the problem codes we are interested in\n",
    "playground = ['Playground Equipment']\n",
    "misc_parks = ['Misc-Parks Div']\n",
    "trash = ['Trash in the Park']\n",
    "potty = ['Park Restrooms']\n",
    "fields = ['Athletic Fields']\n",
    "grass = ['High Grass in Park']\n",
    "sewer = ['Park Sewer Problem']\n",
    "picnic = ['Clean Picnic Tables']"
   ]
  },
  {
   "cell_type": "code",
   "execution_count": 63,
   "metadata": {},
   "outputs": [
    {
     "data": {
      "text/plain": [
       "410"
      ]
     },
     "execution_count": 63,
     "metadata": {},
     "output_type": "execute_result"
    }
   ],
   "source": [
    "# total playground equipment complaints 2009-2019\n",
    "playground_total = total.loc[total['PROBLEMCODE'].isin(playground)]\n",
    "playground_total['DATETIMEINIT'].count()"
   ]
  },
  {
   "cell_type": "code",
   "execution_count": 64,
   "metadata": {},
   "outputs": [
    {
     "name": "stdout",
     "output_type": "stream",
     "text": [
      "YEAR\n",
      "2009    28\n",
      "2010    28\n",
      "2011    36\n",
      "2012    35\n",
      "2013    48\n",
      "2014    36\n",
      "2015    27\n",
      "2016    55\n",
      "2017    65\n",
      "2018    50\n",
      "2019     2\n",
      "Name: YEAR, dtype: int64\n"
     ]
    }
   ],
   "source": [
    "# total playground equipment complaints 2009-2019 sorted by year\n",
    "playground_total['YEAR'] = pd.DatetimeIndex(playground_total['DATETIMEINIT']).year\n",
    "x = playground_total['YEAR'].groupby(playground_total.YEAR).agg('count')\n",
    "print(x)"
   ]
  },
  {
   "cell_type": "code",
   "execution_count": 65,
   "metadata": {},
   "outputs": [
    {
     "data": {
      "text/plain": [
       "Text(0, 0.5, 'Number of complaints')"
      ]
     },
     "execution_count": 65,
     "metadata": {},
     "output_type": "execute_result"
    },
    {
     "data": {
      "image/png": "[encoded data removed]",
      "text/plain": [
       "<Figure size 640x480 with 1 Axes>"
      ]
     },
     "metadata": {},
     "output_type": "display_data"
    }
   ],
   "source": [
    "# playground equipment complaints 2009-2018\n",
    "# NOTE: Since 2019 data is only through April, it is excluded from the graph\n",
    "plt.rcParams['axes.formatter.useoffset'] = False\n",
    "plt.style.use('ggplot')\n",
    "f, ax = plt.subplots(1)\n",
    "mask = x > 2\n",
    "ax.plot(x[mask])\n",
    "ax.set_ylim(ymin=0)\n",
    "plt.title(\"Playground equipment complaints in St. Louis, 2009 to 2018\")\n",
    "plt.xlabel(\"Year\")\n",
    "plt.ylabel(\"Number of complaints\")"
   ]
  },
  {
   "cell_type": "code",
   "execution_count": 66,
   "metadata": {},
   "outputs": [
    {
     "data": {
      "text/plain": [
       "107"
      ]
     },
     "execution_count": 66,
     "metadata": {},
     "output_type": "execute_result"
    }
   ],
   "source": [
    "# filtering the 2018 dataframe down to each specific problem code\n",
    "misc_parks_2018 = year_2018.loc[year_2018['PROBLEMCODE'].isin(misc_parks)]\n",
    "misc_parks_2018['DATETIMEINIT'].count()"
   ]
  },
  {
   "cell_type": "code",
   "execution_count": 67,
   "metadata": {},
   "outputs": [
    {
     "data": {
      "text/plain": [
       "106"
      ]
     },
     "execution_count": 67,
     "metadata": {},
     "output_type": "execute_result"
    }
   ],
   "source": [
    "trash_2018 = year_2018.loc[year_2018['PROBLEMCODE'].isin(trash)]\n",
    "trash_2018['DATETIMEINIT'].count()"
   ]
  },
  {
   "cell_type": "code",
   "execution_count": 68,
   "metadata": {},
   "outputs": [
    {
     "name": "stdout",
     "output_type": "stream",
     "text": [
      "24\n"
     ]
    }
   ],
   "source": [
    "potty_2018 = year_2018.loc[year_2018['PROBLEMCODE'].isin(potty)]\n",
    "a = potty_2018['DATETIMEINIT'].count()\n",
    "print(a)"
   ]
  },
  {
   "cell_type": "code",
   "execution_count": 69,
   "metadata": {},
   "outputs": [
    {
     "name": "stdout",
     "output_type": "stream",
     "text": [
      "18\n"
     ]
    }
   ],
   "source": [
    "fields_2018 = year_2018.loc[year_2018['PROBLEMCODE'].isin(fields)]\n",
    "b = fields_2018['DATETIMEINIT'].count()\n",
    "print(b)"
   ]
  },
  {
   "cell_type": "code",
   "execution_count": 70,
   "metadata": {},
   "outputs": [
    {
     "name": "stdout",
     "output_type": "stream",
     "text": [
      "171\n"
     ]
    }
   ],
   "source": [
    "grass_2018 = year_2018.loc[year_2018['PROBLEMCODE'].isin(grass)]\n",
    "c = grass_2018['DATETIMEINIT'].count()\n",
    "print(c)"
   ]
  },
  {
   "cell_type": "code",
   "execution_count": 71,
   "metadata": {},
   "outputs": [
    {
     "name": "stdout",
     "output_type": "stream",
     "text": [
      "9\n"
     ]
    }
   ],
   "source": [
    "sewer_2018 = year_2018.loc[year_2018['PROBLEMCODE'].isin(sewer)]\n",
    "d = sewer_2018['DATETIMEINIT'].count()\n",
    "print(d)"
   ]
  },
  {
   "cell_type": "code",
   "execution_count": 72,
   "metadata": {},
   "outputs": [
    {
     "name": "stdout",
     "output_type": "stream",
     "text": [
      "4\n"
     ]
    }
   ],
   "source": [
    "picnic_2018 = year_2018.loc[year_2018['PROBLEMCODE'].isin(picnic)]\n",
    "e = picnic_2018['DATETIMEINIT'].count()\n",
    "print(e)"
   ]
  },
  {
   "cell_type": "code",
   "execution_count": 73,
   "metadata": {},
   "outputs": [
    {
     "name": "stdout",
     "output_type": "stream",
     "text": [
      "226\n"
     ]
    }
   ],
   "source": [
    "all_other_park_complaints = a + b + c + d + e\n",
    "print(all_other_park_complaints)"
   ]
  }
 ],
 "metadata": {
  "kernelspec": {
   "display_name": "Python 3 (ipykernel)",
   "language": "python",
   "name": "python3"
  },
  "language_info": {
   "codemirror_mode": {
    "name": "ipython",
    "version": 3
   },
   "file_extension": ".py",
   "mimetype": "text/x-python",
   "name": "python",
   "nbconvert_exporter": "python",
   "pygments_lexer": "ipython3",
   "version": "3.8.6"
  }
 },
 "nbformat": 4,
 "nbformat_minor": 4
}
